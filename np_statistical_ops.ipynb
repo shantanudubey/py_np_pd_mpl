{
 "cells": [
  {
   "cell_type": "code",
   "execution_count": 2,
   "metadata": {},
   "outputs": [],
   "source": [
    "import numpy as np"
   ]
  },
  {
   "cell_type": "code",
   "execution_count": 16,
   "metadata": {},
   "outputs": [
    {
     "data": {
      "text/plain": [
       "(8, 5)"
      ]
     },
     "execution_count": 16,
     "metadata": {},
     "output_type": "execute_result"
    }
   ],
   "source": [
    "\"\"\" Example to understand the approach of statistical ops like max()\n",
    "    Ref : https://realpython.com/numpy-max-maximum/#using-max\n",
    "\n",
    "    Each row represents one student, and each column contains the scores on a particular test.\n",
    "    So column 0 contains all the student scores for the first test, column 1 contains the scores\n",
    "    for the second test, and so on. Here’s the n_scores array:\n",
    "\"\"\"\n",
    "# rows are students(student1, student2... student8), columns are test-names(test1, test2... test5)\n",
    "n_scores = np.array([\n",
    "       [63, 72, 75, 51, 83],\n",
    "       [44, 53, 57, 56, 48],\n",
    "       [71, 77, 82, 91, 76],\n",
    "       [67, 56, 82, 33, 74],\n",
    "       [64, 76, 72, 63, 76],\n",
    "       [47, 56, 49, 53, 42],\n",
    "       [91, 93, 90, 88, 96],\n",
    "       [61, 56, 77, 74, 74],\n",
    "])  \n",
    "np.shape(n_scores)"
   ]
  },
  {
   "cell_type": "code",
   "execution_count": 11,
   "metadata": {},
   "outputs": [
    {
     "name": "stdout",
     "output_type": "stream",
     "text": [
      "96\n",
      "96\n"
     ]
    }
   ],
   "source": [
    "# Both the below  approaches are same since n_scores is a ndarray\n",
    "print(n_scores.max())\n",
    "print(np.max(n_scores))"
   ]
  },
  {
   "cell_type": "code",
   "execution_count": 12,
   "metadata": {},
   "outputs": [
    {
     "data": {
      "text/plain": [
       "array([91, 93, 90, 91, 96])"
      ]
     },
     "execution_count": 12,
     "metadata": {},
     "output_type": "execute_result"
    }
   ],
   "source": [
    "# Get the maximum score for each test\n",
    "n_scores.max(axis=0)"
   ]
  },
  {
   "cell_type": "code",
   "execution_count": 13,
   "metadata": {},
   "outputs": [
    {
     "data": {
      "text/plain": [
       "array([83, 57, 91, 82, 76, 56, 96, 77])"
      ]
     },
     "execution_count": 13,
     "metadata": {},
     "output_type": "execute_result"
    }
   ],
   "source": [
    "# Get the maximum score for each student\n",
    "n_scores.max(axis=1)"
   ]
  },
  {
   "cell_type": "code",
   "execution_count": 28,
   "metadata": {},
   "outputs": [
    {
     "data": {
      "text/plain": [
       "array([[[3, 7, 6],\n",
       "        [1, 5, 2]],\n",
       "\n",
       "       [[1, 2, 4],\n",
       "        [7, 2, 9]],\n",
       "\n",
       "       [[1, 0, 0],\n",
       "        [5, 4, 3]],\n",
       "\n",
       "       [[8, 1, 4],\n",
       "        [2, 7, 8]]])"
      ]
     },
     "execution_count": 28,
     "metadata": {},
     "output_type": "execute_result"
    }
   ],
   "source": [
    "# 3D array of size 4x2x3 \n",
    "a = np.array(\n",
    "    [\n",
    "        [[3,7,6],[1,5,2]],\n",
    "        [[1,2,4],[7,2,9]],\n",
    "        [[1,0,0],[5,4,3]],\n",
    "        [[8,1,4],[2,7,8]]\n",
    "    ])\n",
    "a"
   ]
  },
  {
   "cell_type": "code",
   "execution_count": 6,
   "metadata": {},
   "outputs": [
    {
     "data": {
      "text/plain": [
       "(array([[3, 7, 6],\n",
       "        [1, 5, 2]]),\n",
       " array([3, 7, 6]),\n",
       " 3)"
      ]
     },
     "execution_count": 6,
     "metadata": {},
     "output_type": "execute_result"
    }
   ],
   "source": [
    "a[0], a[0][0], a[0][0][0]"
   ]
  },
  {
   "cell_type": "code",
   "execution_count": 7,
   "metadata": {},
   "outputs": [
    {
     "data": {
      "text/plain": [
       "array([[8, 7, 6],\n",
       "       [7, 7, 9]])"
      ]
     },
     "execution_count": 7,
     "metadata": {},
     "output_type": "execute_result"
    }
   ],
   "source": [
    "np.max(a, axis=0)"
   ]
  },
  {
   "cell_type": "code",
   "execution_count": 21,
   "metadata": {},
   "outputs": [
    {
     "data": {
      "text/plain": [
       "array([[3, 7, 6],\n",
       "       [7, 2, 9],\n",
       "       [5, 4, 3],\n",
       "       [8, 7, 8]])"
      ]
     },
     "execution_count": 21,
     "metadata": {},
     "output_type": "execute_result"
    }
   ],
   "source": [
    "np.max(a, axis=1)"
   ]
  },
  {
   "cell_type": "code",
   "execution_count": 9,
   "metadata": {},
   "outputs": [
    {
     "data": {
      "text/plain": [
       "array([[7, 5],\n",
       "       [4, 9],\n",
       "       [1, 5],\n",
       "       [8, 8]])"
      ]
     },
     "execution_count": 9,
     "metadata": {},
     "output_type": "execute_result"
    }
   ],
   "source": [
    "np.max(a, axis=2)"
   ]
  },
  {
   "cell_type": "code",
   "execution_count": 26,
   "metadata": {},
   "outputs": [
    {
     "data": {
      "text/plain": [
       "array([[[3, 7, 6],\n",
       "        [1, 5, 2]],\n",
       "\n",
       "       [[1, 2, 4],\n",
       "        [7, 2, 9]],\n",
       "\n",
       "       [[1, 0, 0],\n",
       "        [5, 4, 3]],\n",
       "\n",
       "       [[8, 1, 4],\n",
       "        [2, 7, 8]]])"
      ]
     },
     "execution_count": 26,
     "metadata": {},
     "output_type": "execute_result"
    }
   ],
   "source": [
    "a"
   ]
  },
  {
   "cell_type": "code",
   "execution_count": 24,
   "metadata": {},
   "outputs": [
    {
     "data": {
      "text/plain": [
       "92"
      ]
     },
     "execution_count": 24,
     "metadata": {},
     "output_type": "execute_result"
    }
   ],
   "source": [
    "np.sum(a)"
   ]
  },
  {
   "cell_type": "code",
   "execution_count": 25,
   "metadata": {},
   "outputs": [
    {
     "data": {
      "text/plain": [
       "array([[13, 10, 14],\n",
       "       [15, 18, 22]])"
      ]
     },
     "execution_count": 25,
     "metadata": {},
     "output_type": "execute_result"
    }
   ],
   "source": [
    "np.sum(a, axis=0)"
   ]
  },
  {
   "cell_type": "code",
   "execution_count": 29,
   "metadata": {},
   "outputs": [
    {
     "data": {
      "text/plain": [
       "array([[ 4, 12,  8],\n",
       "       [ 8,  4, 13],\n",
       "       [ 6,  4,  3],\n",
       "       [10,  8, 12]])"
      ]
     },
     "execution_count": 29,
     "metadata": {},
     "output_type": "execute_result"
    }
   ],
   "source": [
    "np.sum(a, axis=1)"
   ]
  },
  {
   "cell_type": "code",
   "execution_count": 30,
   "metadata": {},
   "outputs": [
    {
     "data": {
      "text/plain": [
       "array([[16,  8],\n",
       "       [ 7, 18],\n",
       "       [ 1, 12],\n",
       "       [13, 17]])"
      ]
     },
     "execution_count": 30,
     "metadata": {},
     "output_type": "execute_result"
    }
   ],
   "source": [
    "np.sum(a, axis=2)"
   ]
  },
  {
   "cell_type": "code",
   "execution_count": null,
   "metadata": {},
   "outputs": [],
   "source": []
  }
 ],
 "metadata": {
  "kernelspec": {
   "display_name": "venv_np_pd_mpl",
   "language": "python",
   "name": "python3"
  },
  "language_info": {
   "codemirror_mode": {
    "name": "ipython",
    "version": 3
   },
   "file_extension": ".py",
   "mimetype": "text/x-python",
   "name": "python",
   "nbconvert_exporter": "python",
   "pygments_lexer": "ipython3",
   "version": "3.9.17"
  },
  "orig_nbformat": 4
 },
 "nbformat": 4,
 "nbformat_minor": 2
}
